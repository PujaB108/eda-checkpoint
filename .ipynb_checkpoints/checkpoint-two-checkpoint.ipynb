{
 "cells": [
  {
   "attachments": {},
   "cell_type": "markdown",
   "metadata": {
    "azdata_cell_guid": "151601c9-ca7a-412e-af80-c62a87e0837e"
   },
   "source": [
    "# Checkpoint Two: Exploratory Data Analysis\n",
    "\n",
    "Now that your chosen dataset is approved, it is time to start working on your analysis. Use this notebook to perform your EDA and make notes where directed to as you work.\n",
    "\n",
    "## Getting Started\n",
    "\n",
    "Since we have not provided your dataset for you, you will need to load the necessary files in this repository. Make sure to include a link back to the original dataset here as well.\n",
    "\n",
    "Utilized a comprehensive salary dataset sourced from Kaggle.\n",
    "\n",
    "My dataset:https://www.kaggle.com/datasets/amirmahdiabbootalebi/salary-by-job-title-and-country/data\n",
    "\n",
    "BUSINESS ISSUE - To identify potential gender-based and intersectional disparities by evaluating factors such as  job title, experience, education, age, ethnicity and location, providing insights for fair compensation practices and promoting a more inclusive workplace. \n",
    "\n",
    "Your first task in EDA is to import necessary libraries and create a dataframe(s). Make note in the form of code comments of what your thought process is as you work on this setup task."
   ]
  },
  {
   "cell_type": "markdown",
   "metadata": {},
   "source": [
    "DATASET COLUMN DESCRIPTIONS:\n",
    "\n",
    "1. Unnamed Column: 0\n",
    "2. Age - Employee's age (in years)\n",
    "3. Gender - Employee's gender (Male, Female, Other)\n",
    "4. Education level - Highest level of education achieved (High School, Bachelor's, Master's, PhD)\n",
    "5. Job Title - Employee's job role\n",
    "6. Years of Experience - Total years of professional experience\n",
    "7. Salary - Annual salary (in US Dollar)\n",
    "8. Country - Country where the employee works\n",
    "9. Race - Employee's race or ethnicity\n"
   ]
  },
  {
   "cell_type": "code",
   "execution_count": 2,
   "metadata": {},
   "outputs": [],
   "source": [
    "# THINGS THAT I WANT TO EXPLORE AND ANALYZE:\n",
    "\n",
    "# Explore if men and women with similiar education level and years of experience are paid equally across different job titles and countries.\n",
    "# Investigate relationship between years of experience and salary to see whether employees with more experience have a higher salary.\n",
    "# Analyze if employees of different races are compensated equally for similiar roles and qualifications.\n",
    "# Check the gender and racial representation in different job titles."
   ]
  },
  {
   "cell_type": "code",
   "execution_count": 1,
   "metadata": {
    "azdata_cell_guid": "7b503e37-6df5-4433-acfb-678b1346db14"
   },
   "outputs": [],
   "source": [
    "# Importing the appropriate Python libraries with aliases. Pandas-for data analysis & manipulation, NumPy for numerical coimputing, \n",
    "# Matplotlib and Seaborn for data visualization\n",
    "\n",
    "import pandas as pd\n",
    "import numpy as np\n",
    "import seaborn as sns\n",
    "import matplotlib.pyplot as plt\n",
    "from matplotlib import style\n"
   ]
  },
  {
   "cell_type": "code",
   "execution_count": 3,
   "metadata": {},
   "outputs": [
    {
     "data": {
      "text/html": [
       "<div>\n",
       "<style scoped>\n",
       "    .dataframe tbody tr th:only-of-type {\n",
       "        vertical-align: middle;\n",
       "    }\n",
       "\n",
       "    .dataframe tbody tr th {\n",
       "        vertical-align: top;\n",
       "    }\n",
       "\n",
       "    .dataframe thead th {\n",
       "        text-align: right;\n",
       "    }\n",
       "</style>\n",
       "<table border=\"1\" class=\"dataframe\">\n",
       "  <thead>\n",
       "    <tr style=\"text-align: right;\">\n",
       "      <th></th>\n",
       "      <th>Unnamed: 0</th>\n",
       "      <th>Age</th>\n",
       "      <th>Gender</th>\n",
       "      <th>Education Level</th>\n",
       "      <th>Job Title</th>\n",
       "      <th>Years of Experience</th>\n",
       "      <th>Salary</th>\n",
       "      <th>Country</th>\n",
       "      <th>Race</th>\n",
       "    </tr>\n",
       "  </thead>\n",
       "  <tbody>\n",
       "    <tr>\n",
       "      <th>0</th>\n",
       "      <td>0</td>\n",
       "      <td>32.0</td>\n",
       "      <td>Male</td>\n",
       "      <td>Bachelor's</td>\n",
       "      <td>Software Engineer</td>\n",
       "      <td>5.0</td>\n",
       "      <td>90000.0</td>\n",
       "      <td>UK</td>\n",
       "      <td>White</td>\n",
       "    </tr>\n",
       "    <tr>\n",
       "      <th>1</th>\n",
       "      <td>1</td>\n",
       "      <td>28.0</td>\n",
       "      <td>Female</td>\n",
       "      <td>Master's</td>\n",
       "      <td>Data Analyst</td>\n",
       "      <td>3.0</td>\n",
       "      <td>65000.0</td>\n",
       "      <td>USA</td>\n",
       "      <td>Hispanic</td>\n",
       "    </tr>\n",
       "    <tr>\n",
       "      <th>2</th>\n",
       "      <td>2</td>\n",
       "      <td>45.0</td>\n",
       "      <td>Male</td>\n",
       "      <td>PhD</td>\n",
       "      <td>Senior Manager</td>\n",
       "      <td>15.0</td>\n",
       "      <td>150000.0</td>\n",
       "      <td>Canada</td>\n",
       "      <td>White</td>\n",
       "    </tr>\n",
       "    <tr>\n",
       "      <th>3</th>\n",
       "      <td>3</td>\n",
       "      <td>36.0</td>\n",
       "      <td>Female</td>\n",
       "      <td>Bachelor's</td>\n",
       "      <td>Sales Associate</td>\n",
       "      <td>7.0</td>\n",
       "      <td>60000.0</td>\n",
       "      <td>USA</td>\n",
       "      <td>Hispanic</td>\n",
       "    </tr>\n",
       "    <tr>\n",
       "      <th>4</th>\n",
       "      <td>4</td>\n",
       "      <td>52.0</td>\n",
       "      <td>Male</td>\n",
       "      <td>Master's</td>\n",
       "      <td>Director</td>\n",
       "      <td>20.0</td>\n",
       "      <td>200000.0</td>\n",
       "      <td>USA</td>\n",
       "      <td>Asian</td>\n",
       "    </tr>\n",
       "    <tr>\n",
       "      <th>...</th>\n",
       "      <td>...</td>\n",
       "      <td>...</td>\n",
       "      <td>...</td>\n",
       "      <td>...</td>\n",
       "      <td>...</td>\n",
       "      <td>...</td>\n",
       "      <td>...</td>\n",
       "      <td>...</td>\n",
       "      <td>...</td>\n",
       "    </tr>\n",
       "    <tr>\n",
       "      <th>6699</th>\n",
       "      <td>6699</td>\n",
       "      <td>49.0</td>\n",
       "      <td>Female</td>\n",
       "      <td>PhD</td>\n",
       "      <td>Director of Marketing</td>\n",
       "      <td>20.0</td>\n",
       "      <td>200000.0</td>\n",
       "      <td>UK</td>\n",
       "      <td>Mixed</td>\n",
       "    </tr>\n",
       "    <tr>\n",
       "      <th>6700</th>\n",
       "      <td>6700</td>\n",
       "      <td>32.0</td>\n",
       "      <td>Male</td>\n",
       "      <td>High School</td>\n",
       "      <td>Sales Associate</td>\n",
       "      <td>3.0</td>\n",
       "      <td>50000.0</td>\n",
       "      <td>Australia</td>\n",
       "      <td>Australian</td>\n",
       "    </tr>\n",
       "    <tr>\n",
       "      <th>6701</th>\n",
       "      <td>6701</td>\n",
       "      <td>30.0</td>\n",
       "      <td>Female</td>\n",
       "      <td>Bachelor's Degree</td>\n",
       "      <td>Financial Manager</td>\n",
       "      <td>4.0</td>\n",
       "      <td>55000.0</td>\n",
       "      <td>China</td>\n",
       "      <td>Chinese</td>\n",
       "    </tr>\n",
       "    <tr>\n",
       "      <th>6702</th>\n",
       "      <td>6702</td>\n",
       "      <td>46.0</td>\n",
       "      <td>Male</td>\n",
       "      <td>Master's Degree</td>\n",
       "      <td>Marketing Manager</td>\n",
       "      <td>14.0</td>\n",
       "      <td>140000.0</td>\n",
       "      <td>China</td>\n",
       "      <td>Korean</td>\n",
       "    </tr>\n",
       "    <tr>\n",
       "      <th>6703</th>\n",
       "      <td>6703</td>\n",
       "      <td>26.0</td>\n",
       "      <td>Female</td>\n",
       "      <td>High School</td>\n",
       "      <td>Sales Executive</td>\n",
       "      <td>1.0</td>\n",
       "      <td>35000.0</td>\n",
       "      <td>Canada</td>\n",
       "      <td>Black</td>\n",
       "    </tr>\n",
       "  </tbody>\n",
       "</table>\n",
       "<p>6704 rows × 9 columns</p>\n",
       "</div>"
      ],
      "text/plain": [
       "      Unnamed: 0   Age  Gender    Education Level              Job Title  \\\n",
       "0              0  32.0    Male         Bachelor's      Software Engineer   \n",
       "1              1  28.0  Female           Master's           Data Analyst   \n",
       "2              2  45.0    Male                PhD         Senior Manager   \n",
       "3              3  36.0  Female         Bachelor's        Sales Associate   \n",
       "4              4  52.0    Male           Master's               Director   \n",
       "...          ...   ...     ...                ...                    ...   \n",
       "6699        6699  49.0  Female                PhD  Director of Marketing   \n",
       "6700        6700  32.0    Male        High School        Sales Associate   \n",
       "6701        6701  30.0  Female  Bachelor's Degree      Financial Manager   \n",
       "6702        6702  46.0    Male    Master's Degree      Marketing Manager   \n",
       "6703        6703  26.0  Female        High School        Sales Executive   \n",
       "\n",
       "      Years of Experience    Salary    Country        Race  \n",
       "0                     5.0   90000.0         UK       White  \n",
       "1                     3.0   65000.0        USA    Hispanic  \n",
       "2                    15.0  150000.0     Canada       White  \n",
       "3                     7.0   60000.0        USA    Hispanic  \n",
       "4                    20.0  200000.0        USA       Asian  \n",
       "...                   ...       ...        ...         ...  \n",
       "6699                 20.0  200000.0         UK       Mixed  \n",
       "6700                  3.0   50000.0  Australia  Australian  \n",
       "6701                  4.0   55000.0      China     Chinese  \n",
       "6702                 14.0  140000.0      China      Korean  \n",
       "6703                  1.0   35000.0     Canada       Black  \n",
       "\n",
       "[6704 rows x 9 columns]"
      ]
     },
     "execution_count": 3,
     "metadata": {},
     "output_type": "execute_result"
    }
   ],
   "source": [
    "# Created dataframe 'salary_df' from \"Salary_Data_Based_country_and_race\" csv. Read the csv file and load its contents in Pandas dataframe.\n",
    "\n",
    "salary_df = pd.read_csv(\"Salary_Data_Based_country_and_race.csv\")\n",
    "salary_df"
   ]
  },
  {
   "attachments": {},
   "cell_type": "markdown",
   "metadata": {
    "azdata_cell_guid": "129ce836-524b-4ea8-b394-a959f9308d6a"
   },
   "source": [
    "## Get to Know the Numbers\n",
    "\n",
    "Now that you have everything setup, put any code that you use to get to know the dataframe and its rows and columns better in the cell below. You can use whatever techniques you like, except for visualizations. You will put those in a separate section.\n",
    "\n",
    "When working on your code, make sure to leave comments so that your mentors can understand your thought process."
   ]
  },
  {
   "cell_type": "code",
   "execution_count": 4,
   "metadata": {
    "azdata_cell_guid": "0ca2d318-f6e8-43ef-a33e-5304d24d928d",
    "tags": []
   },
   "outputs": [
    {
     "name": "stdout",
     "output_type": "stream",
     "text": [
      "<class 'pandas.core.frame.DataFrame'>\n",
      "RangeIndex: 6704 entries, 0 to 6703\n",
      "Data columns (total 9 columns):\n",
      " #   Column               Non-Null Count  Dtype  \n",
      "---  ------               --------------  -----  \n",
      " 0   Unnamed: 0           6704 non-null   int64  \n",
      " 1   Age                  6702 non-null   float64\n",
      " 2   Gender               6702 non-null   object \n",
      " 3   Education Level      6701 non-null   object \n",
      " 4   Job Title            6702 non-null   object \n",
      " 5   Years of Experience  6701 non-null   float64\n",
      " 6   Salary               6699 non-null   float64\n",
      " 7   Country              6704 non-null   object \n",
      " 8   Race                 6704 non-null   object \n",
      "dtypes: float64(3), int64(1), object(5)\n",
      "memory usage: 471.5+ KB\n"
     ]
    }
   ],
   "source": [
    "# Exploring the dataset to get information about the column names, non-null counts, and datatypes.\n",
    "salary_df.info()"
   ]
  },
  {
   "cell_type": "code",
   "execution_count": 5,
   "metadata": {},
   "outputs": [
    {
     "data": {
      "text/plain": [
       "(6704, 9)"
      ]
     },
     "execution_count": 5,
     "metadata": {},
     "output_type": "execute_result"
    }
   ],
   "source": [
    "# There are 6704 rows and 9 columns in the dataset.\n",
    "salary_df.shape"
   ]
  },
  {
   "cell_type": "code",
   "execution_count": 6,
   "metadata": {},
   "outputs": [
    {
     "data": {
      "text/plain": [
       "Index(['Unnamed: 0', 'Age', 'Gender', 'Education Level', 'Job Title',\n",
       "       'Years of Experience', 'Salary', 'Country', 'Race'],\n",
       "      dtype='object')"
      ]
     },
     "execution_count": 6,
     "metadata": {},
     "output_type": "execute_result"
    }
   ],
   "source": [
    "# Get Column names\n",
    "salary_df.columns"
   ]
  },
  {
   "cell_type": "code",
   "execution_count": 7,
   "metadata": {},
   "outputs": [
    {
     "data": {
      "text/plain": [
       "Unnamed: 0             0\n",
       "Age                    2\n",
       "Gender                 2\n",
       "Education Level        3\n",
       "Job Title              2\n",
       "Years of Experience    3\n",
       "Salary                 5\n",
       "Country                0\n",
       "Race                   0\n",
       "dtype: int64"
      ]
     },
     "execution_count": 7,
     "metadata": {},
     "output_type": "execute_result"
    }
   ],
   "source": [
    "# Getting the count of null values per column\n",
    "salary_df.isnull().sum()\n",
    "\n",
    "# There are not many null values in the dataset and it looks relatively clean. I will handle the missing values when cleaning the data."
   ]
  },
  {
   "cell_type": "code",
   "execution_count": 8,
   "metadata": {},
   "outputs": [
    {
     "data": {
      "text/plain": [
       "np.int64(0)"
      ]
     },
     "execution_count": 8,
     "metadata": {},
     "output_type": "execute_result"
    }
   ],
   "source": [
    "# Checking duplicate values in the dataset. There are no duplicate values.\n",
    "\n",
    "salary_df.duplicated().sum()"
   ]
  },
  {
   "cell_type": "code",
   "execution_count": 9,
   "metadata": {},
   "outputs": [
    {
     "data": {
      "text/plain": [
       "Unnamed: 0             6704\n",
       "Age                      41\n",
       "Gender                    3\n",
       "Education Level           7\n",
       "Job Title               193\n",
       "Years of Experience      37\n",
       "Salary                  444\n",
       "Country                   5\n",
       "Race                     10\n",
       "dtype: int64"
      ]
     },
     "execution_count": 9,
     "metadata": {},
     "output_type": "execute_result"
    }
   ],
   "source": [
    "# List and count of unique values for each column in the dataset.\n",
    "\n",
    "salary_df.nunique()"
   ]
  },
  {
   "cell_type": "code",
   "execution_count": 10,
   "metadata": {},
   "outputs": [
    {
     "data": {
      "text/html": [
       "<div>\n",
       "<style scoped>\n",
       "    .dataframe tbody tr th:only-of-type {\n",
       "        vertical-align: middle;\n",
       "    }\n",
       "\n",
       "    .dataframe tbody tr th {\n",
       "        vertical-align: top;\n",
       "    }\n",
       "\n",
       "    .dataframe thead th {\n",
       "        text-align: right;\n",
       "    }\n",
       "</style>\n",
       "<table border=\"1\" class=\"dataframe\">\n",
       "  <thead>\n",
       "    <tr style=\"text-align: right;\">\n",
       "      <th></th>\n",
       "      <th>Unnamed: 0</th>\n",
       "      <th>Age</th>\n",
       "      <th>Years of Experience</th>\n",
       "      <th>Salary</th>\n",
       "    </tr>\n",
       "  </thead>\n",
       "  <tbody>\n",
       "    <tr>\n",
       "      <th>count</th>\n",
       "      <td>6704.000000</td>\n",
       "      <td>6702.000000</td>\n",
       "      <td>6701.000000</td>\n",
       "      <td>6699.000000</td>\n",
       "    </tr>\n",
       "    <tr>\n",
       "      <th>mean</th>\n",
       "      <td>3351.500000</td>\n",
       "      <td>33.620859</td>\n",
       "      <td>8.094687</td>\n",
       "      <td>115326.964771</td>\n",
       "    </tr>\n",
       "    <tr>\n",
       "      <th>std</th>\n",
       "      <td>1935.422435</td>\n",
       "      <td>7.614633</td>\n",
       "      <td>6.059003</td>\n",
       "      <td>52786.183911</td>\n",
       "    </tr>\n",
       "    <tr>\n",
       "      <th>min</th>\n",
       "      <td>0.000000</td>\n",
       "      <td>21.000000</td>\n",
       "      <td>0.000000</td>\n",
       "      <td>350.000000</td>\n",
       "    </tr>\n",
       "    <tr>\n",
       "      <th>25%</th>\n",
       "      <td>1675.750000</td>\n",
       "      <td>28.000000</td>\n",
       "      <td>3.000000</td>\n",
       "      <td>70000.000000</td>\n",
       "    </tr>\n",
       "    <tr>\n",
       "      <th>50%</th>\n",
       "      <td>3351.500000</td>\n",
       "      <td>32.000000</td>\n",
       "      <td>7.000000</td>\n",
       "      <td>115000.000000</td>\n",
       "    </tr>\n",
       "    <tr>\n",
       "      <th>75%</th>\n",
       "      <td>5027.250000</td>\n",
       "      <td>38.000000</td>\n",
       "      <td>12.000000</td>\n",
       "      <td>160000.000000</td>\n",
       "    </tr>\n",
       "    <tr>\n",
       "      <th>max</th>\n",
       "      <td>6703.000000</td>\n",
       "      <td>62.000000</td>\n",
       "      <td>34.000000</td>\n",
       "      <td>250000.000000</td>\n",
       "    </tr>\n",
       "  </tbody>\n",
       "</table>\n",
       "</div>"
      ],
      "text/plain": [
       "        Unnamed: 0          Age  Years of Experience         Salary\n",
       "count  6704.000000  6702.000000          6701.000000    6699.000000\n",
       "mean   3351.500000    33.620859             8.094687  115326.964771\n",
       "std    1935.422435     7.614633             6.059003   52786.183911\n",
       "min       0.000000    21.000000             0.000000     350.000000\n",
       "25%    1675.750000    28.000000             3.000000   70000.000000\n",
       "50%    3351.500000    32.000000             7.000000  115000.000000\n",
       "75%    5027.250000    38.000000            12.000000  160000.000000\n",
       "max    6703.000000    62.000000            34.000000  250000.000000"
      ]
     },
     "execution_count": 10,
     "metadata": {},
     "output_type": "execute_result"
    }
   ],
   "source": [
    "# There are 3 numeric columns (Age, Years of experience and Salary) in this dataset. Getting Descriptive statistics of these columns. \n",
    "# The mean is greater than median for the Age and Years of Experience. This means the dataset is positively skewed (right-skewed).\n",
    "# Possibility of outliers in these columns\n",
    "\n",
    "salary_df.describe()"
   ]
  },
  {
   "cell_type": "code",
   "execution_count": 11,
   "metadata": {},
   "outputs": [
    {
     "data": {
      "text/html": [
       "<div>\n",
       "<style scoped>\n",
       "    .dataframe tbody tr th:only-of-type {\n",
       "        vertical-align: middle;\n",
       "    }\n",
       "\n",
       "    .dataframe tbody tr th {\n",
       "        vertical-align: top;\n",
       "    }\n",
       "\n",
       "    .dataframe thead th {\n",
       "        text-align: right;\n",
       "    }\n",
       "</style>\n",
       "<table border=\"1\" class=\"dataframe\">\n",
       "  <thead>\n",
       "    <tr style=\"text-align: right;\">\n",
       "      <th></th>\n",
       "      <th>Unnamed: 0</th>\n",
       "      <th>Age</th>\n",
       "      <th>Gender</th>\n",
       "      <th>Education Level</th>\n",
       "      <th>Job Title</th>\n",
       "      <th>Years of Experience</th>\n",
       "      <th>Salary</th>\n",
       "      <th>Country</th>\n",
       "      <th>Race</th>\n",
       "    </tr>\n",
       "  </thead>\n",
       "  <tbody>\n",
       "    <tr>\n",
       "      <th>2421</th>\n",
       "      <td>2421</td>\n",
       "      <td>60.0</td>\n",
       "      <td>Female</td>\n",
       "      <td>PhD</td>\n",
       "      <td>Software Engineer Manager</td>\n",
       "      <td>34.0</td>\n",
       "      <td>188651.0</td>\n",
       "      <td>Canada</td>\n",
       "      <td>Asian</td>\n",
       "    </tr>\n",
       "    <tr>\n",
       "      <th>2501</th>\n",
       "      <td>2501</td>\n",
       "      <td>60.0</td>\n",
       "      <td>Female</td>\n",
       "      <td>PhD</td>\n",
       "      <td>Software Engineer Manager</td>\n",
       "      <td>34.0</td>\n",
       "      <td>188651.0</td>\n",
       "      <td>China</td>\n",
       "      <td>Korean</td>\n",
       "    </tr>\n",
       "    <tr>\n",
       "      <th>2396</th>\n",
       "      <td>2396</td>\n",
       "      <td>60.0</td>\n",
       "      <td>Female</td>\n",
       "      <td>PhD</td>\n",
       "      <td>Software Engineer Manager</td>\n",
       "      <td>33.0</td>\n",
       "      <td>179180.0</td>\n",
       "      <td>China</td>\n",
       "      <td>White</td>\n",
       "    </tr>\n",
       "    <tr>\n",
       "      <th>2401</th>\n",
       "      <td>2401</td>\n",
       "      <td>57.0</td>\n",
       "      <td>Female</td>\n",
       "      <td>PhD</td>\n",
       "      <td>Software Engineer Manager</td>\n",
       "      <td>33.0</td>\n",
       "      <td>191790.0</td>\n",
       "      <td>China</td>\n",
       "      <td>Korean</td>\n",
       "    </tr>\n",
       "    <tr>\n",
       "      <th>2435</th>\n",
       "      <td>2435</td>\n",
       "      <td>57.0</td>\n",
       "      <td>Female</td>\n",
       "      <td>Master's Degree</td>\n",
       "      <td>Full Stack Engineer</td>\n",
       "      <td>33.0</td>\n",
       "      <td>188232.0</td>\n",
       "      <td>Canada</td>\n",
       "      <td>Black</td>\n",
       "    </tr>\n",
       "  </tbody>\n",
       "</table>\n",
       "</div>"
      ],
      "text/plain": [
       "      Unnamed: 0   Age  Gender  Education Level                  Job Title  \\\n",
       "2421        2421  60.0  Female              PhD  Software Engineer Manager   \n",
       "2501        2501  60.0  Female              PhD  Software Engineer Manager   \n",
       "2396        2396  60.0  Female              PhD  Software Engineer Manager   \n",
       "2401        2401  57.0  Female              PhD  Software Engineer Manager   \n",
       "2435        2435  57.0  Female  Master's Degree        Full Stack Engineer   \n",
       "\n",
       "      Years of Experience    Salary Country    Race  \n",
       "2421                 34.0  188651.0  Canada   Asian  \n",
       "2501                 34.0  188651.0   China  Korean  \n",
       "2396                 33.0  179180.0   China   White  \n",
       "2401                 33.0  191790.0   China  Korean  \n",
       "2435                 33.0  188232.0  Canada   Black  "
      ]
     },
     "execution_count": 11,
     "metadata": {},
     "output_type": "execute_result"
    }
   ],
   "source": [
    "# Top 5 rows with the highest values in the 'Years of Experience' column.\n",
    "salary_df.nlargest(5, 'Years of Experience')\n",
    "\n",
    "# The result shows highly experienced employees are females with a PhD/Master's Degree"
   ]
  },
  {
   "cell_type": "code",
   "execution_count": 12,
   "metadata": {},
   "outputs": [
    {
     "data": {
      "text/html": [
       "<div>\n",
       "<style scoped>\n",
       "    .dataframe tbody tr th:only-of-type {\n",
       "        vertical-align: middle;\n",
       "    }\n",
       "\n",
       "    .dataframe tbody tr th {\n",
       "        vertical-align: top;\n",
       "    }\n",
       "\n",
       "    .dataframe thead th {\n",
       "        text-align: right;\n",
       "    }\n",
       "</style>\n",
       "<table border=\"1\" class=\"dataframe\">\n",
       "  <thead>\n",
       "    <tr style=\"text-align: right;\">\n",
       "      <th></th>\n",
       "      <th>Unnamed: 0</th>\n",
       "      <th>Age</th>\n",
       "      <th>Gender</th>\n",
       "      <th>Education Level</th>\n",
       "      <th>Job Title</th>\n",
       "      <th>Years of Experience</th>\n",
       "      <th>Salary</th>\n",
       "      <th>Country</th>\n",
       "      <th>Race</th>\n",
       "    </tr>\n",
       "  </thead>\n",
       "  <tbody>\n",
       "    <tr>\n",
       "      <th>18</th>\n",
       "      <td>18</td>\n",
       "      <td>25.0</td>\n",
       "      <td>Female</td>\n",
       "      <td>Bachelor's</td>\n",
       "      <td>Data Entry Clerk</td>\n",
       "      <td>0.0</td>\n",
       "      <td>35000.0</td>\n",
       "      <td>UK</td>\n",
       "      <td>Asian</td>\n",
       "    </tr>\n",
       "    <tr>\n",
       "      <th>49</th>\n",
       "      <td>49</td>\n",
       "      <td>25.0</td>\n",
       "      <td>Male</td>\n",
       "      <td>Bachelor's</td>\n",
       "      <td>Help Desk Analyst</td>\n",
       "      <td>0.0</td>\n",
       "      <td>35000.0</td>\n",
       "      <td>USA</td>\n",
       "      <td>Asian</td>\n",
       "    </tr>\n",
       "    <tr>\n",
       "      <th>82</th>\n",
       "      <td>82</td>\n",
       "      <td>25.0</td>\n",
       "      <td>Male</td>\n",
       "      <td>Bachelor's</td>\n",
       "      <td>Sales Representative</td>\n",
       "      <td>0.0</td>\n",
       "      <td>30000.0</td>\n",
       "      <td>Australia</td>\n",
       "      <td>Asian</td>\n",
       "    </tr>\n",
       "    <tr>\n",
       "      <th>2422</th>\n",
       "      <td>2422</td>\n",
       "      <td>24.0</td>\n",
       "      <td>Male</td>\n",
       "      <td>Master's Degree</td>\n",
       "      <td>Back end Developer</td>\n",
       "      <td>0.0</td>\n",
       "      <td>55538.0</td>\n",
       "      <td>USA</td>\n",
       "      <td>Asian</td>\n",
       "    </tr>\n",
       "    <tr>\n",
       "      <th>2436</th>\n",
       "      <td>2436</td>\n",
       "      <td>22.0</td>\n",
       "      <td>Female</td>\n",
       "      <td>High School</td>\n",
       "      <td>Back end Developer</td>\n",
       "      <td>0.0</td>\n",
       "      <td>51832.0</td>\n",
       "      <td>UK</td>\n",
       "      <td>White</td>\n",
       "    </tr>\n",
       "  </tbody>\n",
       "</table>\n",
       "</div>"
      ],
      "text/plain": [
       "      Unnamed: 0   Age  Gender  Education Level             Job Title  \\\n",
       "18            18  25.0  Female       Bachelor's      Data Entry Clerk   \n",
       "49            49  25.0    Male       Bachelor's     Help Desk Analyst   \n",
       "82            82  25.0    Male       Bachelor's  Sales Representative   \n",
       "2422        2422  24.0    Male  Master's Degree    Back end Developer   \n",
       "2436        2436  22.0  Female      High School    Back end Developer   \n",
       "\n",
       "      Years of Experience   Salary    Country   Race  \n",
       "18                    0.0  35000.0         UK  Asian  \n",
       "49                    0.0  35000.0        USA  Asian  \n",
       "82                    0.0  30000.0  Australia  Asian  \n",
       "2422                  0.0  55538.0        USA  Asian  \n",
       "2436                  0.0  51832.0         UK  White  "
      ]
     },
     "execution_count": 12,
     "metadata": {},
     "output_type": "execute_result"
    }
   ],
   "source": [
    "# Top 5 rows with the least values in the 'Years of Experience' column.\n",
    "salary_df.nsmallest(5, 'Years of Experience')"
   ]
  },
  {
   "cell_type": "code",
   "execution_count": 13,
   "metadata": {},
   "outputs": [
    {
     "data": {
      "text/html": [
       "<div>\n",
       "<style scoped>\n",
       "    .dataframe tbody tr th:only-of-type {\n",
       "        vertical-align: middle;\n",
       "    }\n",
       "\n",
       "    .dataframe tbody tr th {\n",
       "        vertical-align: top;\n",
       "    }\n",
       "\n",
       "    .dataframe thead th {\n",
       "        text-align: right;\n",
       "    }\n",
       "</style>\n",
       "<table border=\"1\" class=\"dataframe\">\n",
       "  <thead>\n",
       "    <tr style=\"text-align: right;\">\n",
       "      <th></th>\n",
       "      <th>Unnamed: 0</th>\n",
       "      <th>Age</th>\n",
       "      <th>Gender</th>\n",
       "      <th>Education Level</th>\n",
       "      <th>Job Title</th>\n",
       "      <th>Years of Experience</th>\n",
       "      <th>Salary</th>\n",
       "      <th>Country</th>\n",
       "      <th>Race</th>\n",
       "    </tr>\n",
       "  </thead>\n",
       "  <tbody>\n",
       "    <tr>\n",
       "      <th>30</th>\n",
       "      <td>30</td>\n",
       "      <td>50.0</td>\n",
       "      <td>Male</td>\n",
       "      <td>Bachelor's</td>\n",
       "      <td>CEO</td>\n",
       "      <td>25.0</td>\n",
       "      <td>250000.0</td>\n",
       "      <td>Canada</td>\n",
       "      <td>Asian</td>\n",
       "    </tr>\n",
       "    <tr>\n",
       "      <th>83</th>\n",
       "      <td>83</td>\n",
       "      <td>52.0</td>\n",
       "      <td>Male</td>\n",
       "      <td>PhD</td>\n",
       "      <td>Chief Technology Officer</td>\n",
       "      <td>24.0</td>\n",
       "      <td>250000.0</td>\n",
       "      <td>Canada</td>\n",
       "      <td>Black</td>\n",
       "    </tr>\n",
       "    <tr>\n",
       "      <th>5001</th>\n",
       "      <td>5001</td>\n",
       "      <td>45.0</td>\n",
       "      <td>Male</td>\n",
       "      <td>Bachelor's Degree</td>\n",
       "      <td>Financial Manager</td>\n",
       "      <td>21.0</td>\n",
       "      <td>250000.0</td>\n",
       "      <td>Canada</td>\n",
       "      <td>Black</td>\n",
       "    </tr>\n",
       "    <tr>\n",
       "      <th>4276</th>\n",
       "      <td>4276</td>\n",
       "      <td>51.0</td>\n",
       "      <td>Male</td>\n",
       "      <td>PhD</td>\n",
       "      <td>Data Scientist</td>\n",
       "      <td>24.0</td>\n",
       "      <td>240000.0</td>\n",
       "      <td>Canada</td>\n",
       "      <td>Black</td>\n",
       "    </tr>\n",
       "    <tr>\n",
       "      <th>4291</th>\n",
       "      <td>4291</td>\n",
       "      <td>51.0</td>\n",
       "      <td>Male</td>\n",
       "      <td>PhD</td>\n",
       "      <td>Data Scientist</td>\n",
       "      <td>24.0</td>\n",
       "      <td>240000.0</td>\n",
       "      <td>UK</td>\n",
       "      <td>Welsh</td>\n",
       "    </tr>\n",
       "  </tbody>\n",
       "</table>\n",
       "</div>"
      ],
      "text/plain": [
       "      Unnamed: 0   Age Gender    Education Level                 Job Title  \\\n",
       "30            30  50.0   Male         Bachelor's                       CEO   \n",
       "83            83  52.0   Male                PhD  Chief Technology Officer   \n",
       "5001        5001  45.0   Male  Bachelor's Degree         Financial Manager   \n",
       "4276        4276  51.0   Male                PhD            Data Scientist   \n",
       "4291        4291  51.0   Male                PhD            Data Scientist   \n",
       "\n",
       "      Years of Experience    Salary Country   Race  \n",
       "30                   25.0  250000.0  Canada  Asian  \n",
       "83                   24.0  250000.0  Canada  Black  \n",
       "5001                 21.0  250000.0  Canada  Black  \n",
       "4276                 24.0  240000.0  Canada  Black  \n",
       "4291                 24.0  240000.0      UK  Welsh  "
      ]
     },
     "execution_count": 13,
     "metadata": {},
     "output_type": "execute_result"
    }
   ],
   "source": [
    "# Top 5 rows with the highest values in the 'Salary' column.\n",
    "salary_df.nlargest(5, 'Salary')\n",
    "\n",
    "# The result shows only Male employees "
   ]
  },
  {
   "cell_type": "code",
   "execution_count": 14,
   "metadata": {},
   "outputs": [
    {
     "data": {
      "text/html": [
       "<div>\n",
       "<style scoped>\n",
       "    .dataframe tbody tr th:only-of-type {\n",
       "        vertical-align: middle;\n",
       "    }\n",
       "\n",
       "    .dataframe tbody tr th {\n",
       "        vertical-align: top;\n",
       "    }\n",
       "\n",
       "    .dataframe thead th {\n",
       "        text-align: right;\n",
       "    }\n",
       "</style>\n",
       "<table border=\"1\" class=\"dataframe\">\n",
       "  <thead>\n",
       "    <tr style=\"text-align: right;\">\n",
       "      <th></th>\n",
       "      <th>Unnamed: 0</th>\n",
       "      <th>Age</th>\n",
       "      <th>Gender</th>\n",
       "      <th>Education Level</th>\n",
       "      <th>Job Title</th>\n",
       "      <th>Years of Experience</th>\n",
       "      <th>Salary</th>\n",
       "      <th>Country</th>\n",
       "      <th>Race</th>\n",
       "    </tr>\n",
       "  </thead>\n",
       "  <tbody>\n",
       "    <tr>\n",
       "      <th>259</th>\n",
       "      <td>259</td>\n",
       "      <td>29.0</td>\n",
       "      <td>Male</td>\n",
       "      <td>Bachelor's</td>\n",
       "      <td>Junior Business Operations Analyst</td>\n",
       "      <td>1.5</td>\n",
       "      <td>350.0</td>\n",
       "      <td>USA</td>\n",
       "      <td>Hispanic</td>\n",
       "    </tr>\n",
       "    <tr>\n",
       "      <th>4633</th>\n",
       "      <td>4633</td>\n",
       "      <td>31.0</td>\n",
       "      <td>Female</td>\n",
       "      <td>Bachelor's Degree</td>\n",
       "      <td>Junior HR Coordinator</td>\n",
       "      <td>4.0</td>\n",
       "      <td>500.0</td>\n",
       "      <td>USA</td>\n",
       "      <td>Asian</td>\n",
       "    </tr>\n",
       "    <tr>\n",
       "      <th>1890</th>\n",
       "      <td>1890</td>\n",
       "      <td>25.0</td>\n",
       "      <td>Female</td>\n",
       "      <td>Bachelor's Degree</td>\n",
       "      <td>Front end Developer</td>\n",
       "      <td>1.0</td>\n",
       "      <td>550.0</td>\n",
       "      <td>UK</td>\n",
       "      <td>Mixed</td>\n",
       "    </tr>\n",
       "    <tr>\n",
       "      <th>2654</th>\n",
       "      <td>2654</td>\n",
       "      <td>23.0</td>\n",
       "      <td>Male</td>\n",
       "      <td>PhD</td>\n",
       "      <td>Software Engineer Manager</td>\n",
       "      <td>1.0</td>\n",
       "      <td>579.0</td>\n",
       "      <td>UK</td>\n",
       "      <td>Mixed</td>\n",
       "    </tr>\n",
       "    <tr>\n",
       "      <th>3893</th>\n",
       "      <td>3893</td>\n",
       "      <td>22.0</td>\n",
       "      <td>Male</td>\n",
       "      <td>High School</td>\n",
       "      <td>Junior Sales Associate</td>\n",
       "      <td>1.0</td>\n",
       "      <td>25000.0</td>\n",
       "      <td>USA</td>\n",
       "      <td>African American</td>\n",
       "    </tr>\n",
       "  </tbody>\n",
       "</table>\n",
       "</div>"
      ],
      "text/plain": [
       "      Unnamed: 0   Age  Gender    Education Level  \\\n",
       "259          259  29.0    Male         Bachelor's   \n",
       "4633        4633  31.0  Female  Bachelor's Degree   \n",
       "1890        1890  25.0  Female  Bachelor's Degree   \n",
       "2654        2654  23.0    Male                PhD   \n",
       "3893        3893  22.0    Male        High School   \n",
       "\n",
       "                               Job Title  Years of Experience   Salary  \\\n",
       "259   Junior Business Operations Analyst                  1.5    350.0   \n",
       "4633               Junior HR Coordinator                  4.0    500.0   \n",
       "1890                 Front end Developer                  1.0    550.0   \n",
       "2654           Software Engineer Manager                  1.0    579.0   \n",
       "3893              Junior Sales Associate                  1.0  25000.0   \n",
       "\n",
       "     Country              Race  \n",
       "259      USA          Hispanic  \n",
       "4633     USA             Asian  \n",
       "1890      UK             Mixed  \n",
       "2654      UK             Mixed  \n",
       "3893     USA  African American  "
      ]
     },
     "execution_count": 14,
     "metadata": {},
     "output_type": "execute_result"
    }
   ],
   "source": [
    "# Top 5 rows with the least values in the 'Salary' column.\n",
    "salary_df.nsmallest(5, 'Salary')"
   ]
  },
  {
   "cell_type": "code",
   "execution_count": 15,
   "metadata": {},
   "outputs": [
    {
     "data": {
      "text/html": [
       "<div>\n",
       "<style scoped>\n",
       "    .dataframe tbody tr th:only-of-type {\n",
       "        vertical-align: middle;\n",
       "    }\n",
       "\n",
       "    .dataframe tbody tr th {\n",
       "        vertical-align: top;\n",
       "    }\n",
       "\n",
       "    .dataframe thead th {\n",
       "        text-align: right;\n",
       "    }\n",
       "</style>\n",
       "<table border=\"1\" class=\"dataframe\">\n",
       "  <thead>\n",
       "    <tr style=\"text-align: right;\">\n",
       "      <th></th>\n",
       "      <th>Unnamed: 0</th>\n",
       "      <th>Age</th>\n",
       "      <th>Gender</th>\n",
       "      <th>Education Level</th>\n",
       "      <th>Job Title</th>\n",
       "      <th>Years of Experience</th>\n",
       "      <th>Salary</th>\n",
       "      <th>Country</th>\n",
       "      <th>Race</th>\n",
       "    </tr>\n",
       "  </thead>\n",
       "  <tbody>\n",
       "    <tr>\n",
       "      <th>1225</th>\n",
       "      <td>1225</td>\n",
       "      <td>62.0</td>\n",
       "      <td>Male</td>\n",
       "      <td>PhD</td>\n",
       "      <td>Software Engineer Manager</td>\n",
       "      <td>19.0</td>\n",
       "      <td>200000.0</td>\n",
       "      <td>UK</td>\n",
       "      <td>White</td>\n",
       "    </tr>\n",
       "    <tr>\n",
       "      <th>1236</th>\n",
       "      <td>1236</td>\n",
       "      <td>62.0</td>\n",
       "      <td>Male</td>\n",
       "      <td>PhD</td>\n",
       "      <td>Software Engineer Manager</td>\n",
       "      <td>20.0</td>\n",
       "      <td>200000.0</td>\n",
       "      <td>China</td>\n",
       "      <td>Korean</td>\n",
       "    </tr>\n",
       "    <tr>\n",
       "      <th>1258</th>\n",
       "      <td>1258</td>\n",
       "      <td>62.0</td>\n",
       "      <td>Male</td>\n",
       "      <td>PhD</td>\n",
       "      <td>Software Engineer Manager</td>\n",
       "      <td>19.0</td>\n",
       "      <td>200000.0</td>\n",
       "      <td>UK</td>\n",
       "      <td>Mixed</td>\n",
       "    </tr>\n",
       "    <tr>\n",
       "      <th>1304</th>\n",
       "      <td>1304</td>\n",
       "      <td>62.0</td>\n",
       "      <td>Male</td>\n",
       "      <td>PhD</td>\n",
       "      <td>Software Engineer Manager</td>\n",
       "      <td>20.0</td>\n",
       "      <td>200000.0</td>\n",
       "      <td>Canada</td>\n",
       "      <td>Asian</td>\n",
       "    </tr>\n",
       "    <tr>\n",
       "      <th>1305</th>\n",
       "      <td>1305</td>\n",
       "      <td>62.0</td>\n",
       "      <td>Male</td>\n",
       "      <td>PhD</td>\n",
       "      <td>Software Engineer Manager</td>\n",
       "      <td>19.0</td>\n",
       "      <td>200000.0</td>\n",
       "      <td>Australia</td>\n",
       "      <td>Asian</td>\n",
       "    </tr>\n",
       "  </tbody>\n",
       "</table>\n",
       "</div>"
      ],
      "text/plain": [
       "      Unnamed: 0   Age Gender Education Level                  Job Title  \\\n",
       "1225        1225  62.0   Male             PhD  Software Engineer Manager   \n",
       "1236        1236  62.0   Male             PhD  Software Engineer Manager   \n",
       "1258        1258  62.0   Male             PhD  Software Engineer Manager   \n",
       "1304        1304  62.0   Male             PhD  Software Engineer Manager   \n",
       "1305        1305  62.0   Male             PhD  Software Engineer Manager   \n",
       "\n",
       "      Years of Experience    Salary    Country    Race  \n",
       "1225                 19.0  200000.0         UK   White  \n",
       "1236                 20.0  200000.0      China  Korean  \n",
       "1258                 19.0  200000.0         UK   Mixed  \n",
       "1304                 20.0  200000.0     Canada   Asian  \n",
       "1305                 19.0  200000.0  Australia   Asian  "
      ]
     },
     "execution_count": 15,
     "metadata": {},
     "output_type": "execute_result"
    }
   ],
   "source": [
    "# Top 5 rows with the highest values in the 'Age' column.\n",
    "salary_df.nlargest(5, 'Age')\n",
    "\n",
    "# The result shows oldest employees are males 62 years old"
   ]
  },
  {
   "cell_type": "code",
   "execution_count": 16,
   "metadata": {},
   "outputs": [
    {
     "data": {
      "text/html": [
       "<div>\n",
       "<style scoped>\n",
       "    .dataframe tbody tr th:only-of-type {\n",
       "        vertical-align: middle;\n",
       "    }\n",
       "\n",
       "    .dataframe tbody tr th {\n",
       "        vertical-align: top;\n",
       "    }\n",
       "\n",
       "    .dataframe thead th {\n",
       "        text-align: right;\n",
       "    }\n",
       "</style>\n",
       "<table border=\"1\" class=\"dataframe\">\n",
       "  <thead>\n",
       "    <tr style=\"text-align: right;\">\n",
       "      <th></th>\n",
       "      <th>Unnamed: 0</th>\n",
       "      <th>Age</th>\n",
       "      <th>Gender</th>\n",
       "      <th>Education Level</th>\n",
       "      <th>Job Title</th>\n",
       "      <th>Years of Experience</th>\n",
       "      <th>Salary</th>\n",
       "      <th>Country</th>\n",
       "      <th>Race</th>\n",
       "    </tr>\n",
       "  </thead>\n",
       "  <tbody>\n",
       "    <tr>\n",
       "      <th>4884</th>\n",
       "      <td>4884</td>\n",
       "      <td>21.0</td>\n",
       "      <td>Female</td>\n",
       "      <td>High School</td>\n",
       "      <td>Junior Sales Representative</td>\n",
       "      <td>0.0</td>\n",
       "      <td>25000.0</td>\n",
       "      <td>China</td>\n",
       "      <td>White</td>\n",
       "    </tr>\n",
       "    <tr>\n",
       "      <th>4897</th>\n",
       "      <td>4897</td>\n",
       "      <td>21.0</td>\n",
       "      <td>Female</td>\n",
       "      <td>High School</td>\n",
       "      <td>Junior Sales Representative</td>\n",
       "      <td>0.0</td>\n",
       "      <td>25000.0</td>\n",
       "      <td>USA</td>\n",
       "      <td>Asian</td>\n",
       "    </tr>\n",
       "    <tr>\n",
       "      <th>4910</th>\n",
       "      <td>4910</td>\n",
       "      <td>21.0</td>\n",
       "      <td>Female</td>\n",
       "      <td>High School</td>\n",
       "      <td>Junior Sales Representative</td>\n",
       "      <td>0.0</td>\n",
       "      <td>25000.0</td>\n",
       "      <td>China</td>\n",
       "      <td>White</td>\n",
       "    </tr>\n",
       "    <tr>\n",
       "      <th>4923</th>\n",
       "      <td>4923</td>\n",
       "      <td>21.0</td>\n",
       "      <td>Female</td>\n",
       "      <td>High School</td>\n",
       "      <td>Junior Sales Representative</td>\n",
       "      <td>0.0</td>\n",
       "      <td>25000.0</td>\n",
       "      <td>USA</td>\n",
       "      <td>African American</td>\n",
       "    </tr>\n",
       "    <tr>\n",
       "      <th>4936</th>\n",
       "      <td>4936</td>\n",
       "      <td>21.0</td>\n",
       "      <td>Female</td>\n",
       "      <td>High School</td>\n",
       "      <td>Junior Sales Representative</td>\n",
       "      <td>0.0</td>\n",
       "      <td>25000.0</td>\n",
       "      <td>USA</td>\n",
       "      <td>White</td>\n",
       "    </tr>\n",
       "  </tbody>\n",
       "</table>\n",
       "</div>"
      ],
      "text/plain": [
       "      Unnamed: 0   Age  Gender Education Level                    Job Title  \\\n",
       "4884        4884  21.0  Female     High School  Junior Sales Representative   \n",
       "4897        4897  21.0  Female     High School  Junior Sales Representative   \n",
       "4910        4910  21.0  Female     High School  Junior Sales Representative   \n",
       "4923        4923  21.0  Female     High School  Junior Sales Representative   \n",
       "4936        4936  21.0  Female     High School  Junior Sales Representative   \n",
       "\n",
       "      Years of Experience   Salary Country              Race  \n",
       "4884                  0.0  25000.0   China             White  \n",
       "4897                  0.0  25000.0     USA             Asian  \n",
       "4910                  0.0  25000.0   China             White  \n",
       "4923                  0.0  25000.0     USA  African American  \n",
       "4936                  0.0  25000.0     USA             White  "
      ]
     },
     "execution_count": 16,
     "metadata": {},
     "output_type": "execute_result"
    }
   ],
   "source": [
    "# Top 5 rows with the least values in the 'Age' column.\n",
    "salary_df.nsmallest(5, 'Age')\n",
    "\n",
    "# The result shows youngest employees are females 21 years old"
   ]
  },
  {
   "cell_type": "code",
   "execution_count": 17,
   "metadata": {},
   "outputs": [
    {
     "data": {
      "text/plain": [
       "Age\n",
       "27.0    517\n",
       "30.0    449\n",
       "29.0    444\n",
       "28.0    429\n",
       "33.0    398\n",
       "26.0    394\n",
       "31.0    365\n",
       "32.0    351\n",
       "34.0    309\n",
       "25.0    284\n",
       "36.0    282\n",
       "24.0    240\n",
       "35.0    200\n",
       "42.0    176\n",
       "43.0    158\n",
       "39.0    158\n",
       "37.0    156\n",
       "38.0    149\n",
       "45.0    144\n",
       "41.0    129\n",
       "44.0    126\n",
       "23.0    104\n",
       "46.0    102\n",
       "48.0     98\n",
       "40.0     92\n",
       "49.0     91\n",
       "50.0     88\n",
       "54.0     68\n",
       "47.0     47\n",
       "51.0     30\n",
       "52.0     29\n",
       "21.0     18\n",
       "55.0     16\n",
       "22.0     15\n",
       "56.0     11\n",
       "57.0      9\n",
       "53.0      7\n",
       "58.0      7\n",
       "62.0      5\n",
       "60.0      5\n",
       "61.0      2\n",
       "Name: count, dtype: int64"
      ]
     },
     "execution_count": 17,
     "metadata": {},
     "output_type": "execute_result"
    }
   ],
   "source": [
    "# Distribution and count of 41 unique values in 'Age' column\n",
    "salary_df['Age'].value_counts()\n",
    "\n",
    "# The age with the most values is 27 years (# of values are 517). "
   ]
  },
  {
   "cell_type": "code",
   "execution_count": 18,
   "metadata": {},
   "outputs": [
    {
     "data": {
      "text/plain": [
       "Gender\n",
       "Male      3674\n",
       "Female    3014\n",
       "Other       14\n",
       "Name: count, dtype: int64"
      ]
     },
     "execution_count": 18,
     "metadata": {},
     "output_type": "execute_result"
    }
   ],
   "source": [
    "# Distribution and count of unique values in the 'Gender' column.\n",
    "salary_df['Gender'].value_counts()\n",
    "\n",
    "# The gender with the most values is Male"
   ]
  },
  {
   "cell_type": "code",
   "execution_count": 19,
   "metadata": {},
   "outputs": [
    {
     "data": {
      "text/plain": [
       "array(['Male', 'Female', nan, 'Other'], dtype=object)"
      ]
     },
     "execution_count": 19,
     "metadata": {},
     "output_type": "execute_result"
    }
   ],
   "source": [
    "# List the unique values in the 'Gender' column\n",
    "salary_df['Gender'].unique()"
   ]
  },
  {
   "cell_type": "code",
   "execution_count": 20,
   "metadata": {},
   "outputs": [
    {
     "data": {
      "text/html": [
       "<div>\n",
       "<style scoped>\n",
       "    .dataframe tbody tr th:only-of-type {\n",
       "        vertical-align: middle;\n",
       "    }\n",
       "\n",
       "    .dataframe tbody tr th {\n",
       "        vertical-align: top;\n",
       "    }\n",
       "\n",
       "    .dataframe thead th {\n",
       "        text-align: right;\n",
       "    }\n",
       "</style>\n",
       "<table border=\"1\" class=\"dataframe\">\n",
       "  <thead>\n",
       "    <tr style=\"text-align: right;\">\n",
       "      <th></th>\n",
       "      <th>Unnamed: 0</th>\n",
       "      <th>Age</th>\n",
       "      <th>Gender</th>\n",
       "      <th>Education Level</th>\n",
       "      <th>Job Title</th>\n",
       "      <th>Years of Experience</th>\n",
       "      <th>Salary</th>\n",
       "      <th>Country</th>\n",
       "      <th>Race</th>\n",
       "    </tr>\n",
       "  </thead>\n",
       "  <tbody>\n",
       "    <tr>\n",
       "      <th>172</th>\n",
       "      <td>172</td>\n",
       "      <td>NaN</td>\n",
       "      <td>NaN</td>\n",
       "      <td>NaN</td>\n",
       "      <td>NaN</td>\n",
       "      <td>NaN</td>\n",
       "      <td>NaN</td>\n",
       "      <td>UK</td>\n",
       "      <td>White</td>\n",
       "    </tr>\n",
       "    <tr>\n",
       "      <th>260</th>\n",
       "      <td>260</td>\n",
       "      <td>NaN</td>\n",
       "      <td>NaN</td>\n",
       "      <td>NaN</td>\n",
       "      <td>NaN</td>\n",
       "      <td>NaN</td>\n",
       "      <td>NaN</td>\n",
       "      <td>Canada</td>\n",
       "      <td>White</td>\n",
       "    </tr>\n",
       "  </tbody>\n",
       "</table>\n",
       "</div>"
      ],
      "text/plain": [
       "     Unnamed: 0  Age Gender Education Level Job Title  Years of Experience  \\\n",
       "172         172  NaN    NaN             NaN       NaN                  NaN   \n",
       "260         260  NaN    NaN             NaN       NaN                  NaN   \n",
       "\n",
       "     Salary Country   Race  \n",
       "172     NaN      UK  White  \n",
       "260     NaN  Canada  White  "
      ]
     },
     "execution_count": 20,
     "metadata": {},
     "output_type": "execute_result"
    }
   ],
   "source": [
    "# Getting rows in the Gender column with unique values 'NaN'. I will drop these columns in Checkpoint 3.\n",
    "age_nan = salary_df[salary_df['Gender'].isnull()]\n",
    "age_nan"
   ]
  },
  {
   "cell_type": "code",
   "execution_count": 21,
   "metadata": {},
   "outputs": [
    {
     "data": {
      "text/plain": [
       "Education Level\n",
       "Bachelor's Degree    2267\n",
       "Master's Degree      1573\n",
       "PhD                  1368\n",
       "Bachelor's            756\n",
       "High School           448\n",
       "Master's              288\n",
       "phD                     1\n",
       "Name: count, dtype: int64"
      ]
     },
     "execution_count": 21,
     "metadata": {},
     "output_type": "execute_result"
    }
   ],
   "source": [
    "# Distribution and count of unique values in the 'Education Level' column.\n",
    "# I am considering to consolidate 'Bachelor's' with 'Bachelor's Degree', 'Master's' with 'Master's Degree' and \n",
    "# 'phD' with 'PhD'. In Checkpoint 3, while cleaning the data, these unique values will be consolidated and replaced.\n",
    "# Education Level with the most values is Bachelor's Degree\n",
    "\n",
    "salary_df['Education Level'].value_counts()"
   ]
  },
  {
   "cell_type": "code",
   "execution_count": 22,
   "metadata": {},
   "outputs": [
    {
     "data": {
      "text/plain": [
       "array(['Software Engineer', 'Data Analyst', 'Senior Manager',\n",
       "       'Sales Associate', 'Director', 'Marketing Analyst',\n",
       "       'Product Manager', 'Sales Manager', 'Marketing Coordinator',\n",
       "       'Senior Scientist', 'Software Developer', 'HR Manager',\n",
       "       'Financial Analyst', 'Project Manager', 'Customer Service Rep',\n",
       "       'Operations Manager', 'Marketing Manager', 'Senior Engineer',\n",
       "       'Data Entry Clerk', 'Sales Director', 'Business Analyst',\n",
       "       'VP of Operations', 'IT Support', 'Recruiter', 'Financial Manager',\n",
       "       'Social Media Specialist', 'Software Manager', 'Junior Developer',\n",
       "       'Senior Consultant', 'Product Designer', 'CEO', 'Accountant',\n",
       "       'Data Scientist', 'Marketing Specialist', 'Technical Writer',\n",
       "       'HR Generalist', 'Project Engineer', 'Customer Success Rep',\n",
       "       'Sales Executive', 'UX Designer', 'Operations Director',\n",
       "       'Network Engineer', 'Administrative Assistant',\n",
       "       'Strategy Consultant', 'Copywriter', 'Account Manager',\n",
       "       'Director of Marketing', 'Help Desk Analyst',\n",
       "       'Customer Service Manager', 'Business Intelligence Analyst',\n",
       "       'Event Coordinator', 'VP of Finance', 'Graphic Designer',\n",
       "       'UX Researcher', 'Social Media Manager', 'Director of Operations',\n",
       "       'Senior Data Scientist', 'Junior Accountant',\n",
       "       'Digital Marketing Manager', 'IT Manager',\n",
       "       'Customer Service Representative', 'Business Development Manager',\n",
       "       'Senior Financial Analyst', 'Web Developer', 'Research Director',\n",
       "       'Technical Support Specialist', 'Creative Director',\n",
       "       'Senior Software Engineer', 'Human Resources Director',\n",
       "       'Content Marketing Manager', 'Technical Recruiter',\n",
       "       'Sales Representative', 'Chief Technology Officer',\n",
       "       'Junior Designer', 'Financial Advisor', 'Junior Account Manager',\n",
       "       'Senior Project Manager', 'Principal Scientist',\n",
       "       'Supply Chain Manager', 'Senior Marketing Manager',\n",
       "       'Training Specialist', 'Research Scientist',\n",
       "       'Junior Software Developer', 'Public Relations Manager',\n",
       "       'Operations Analyst', 'Product Marketing Manager',\n",
       "       'Senior HR Manager', 'Junior Web Developer',\n",
       "       'Senior Project Coordinator', 'Chief Data Officer',\n",
       "       'Digital Content Producer', 'IT Support Specialist',\n",
       "       'Senior Marketing Analyst', 'Customer Success Manager',\n",
       "       'Senior Graphic Designer', 'Software Project Manager',\n",
       "       'Supply Chain Analyst', 'Senior Business Analyst',\n",
       "       'Junior Marketing Analyst', 'Office Manager', 'Principal Engineer',\n",
       "       'Junior HR Generalist', 'Senior Product Manager',\n",
       "       'Junior Operations Analyst', 'Senior HR Generalist',\n",
       "       'Sales Operations Manager', 'Senior Software Developer',\n",
       "       'Junior Web Designer', 'Senior Training Specialist',\n",
       "       'Senior Research Scientist', 'Junior Sales Representative',\n",
       "       'Junior Marketing Manager', 'Junior Data Analyst',\n",
       "       'Senior Product Marketing Manager', 'Junior Business Analyst',\n",
       "       'Senior Sales Manager', 'Junior Marketing Specialist',\n",
       "       'Junior Project Manager', 'Senior Accountant', 'Director of Sales',\n",
       "       'Junior Recruiter', 'Senior Business Development Manager',\n",
       "       'Senior Product Designer', 'Junior Customer Support Specialist',\n",
       "       'Senior IT Support Specialist', 'Junior Financial Analyst',\n",
       "       'Senior Operations Manager', 'Director of Human Resources',\n",
       "       'Junior Software Engineer', 'Senior Sales Representative',\n",
       "       'Director of Product Management', 'Junior Copywriter',\n",
       "       'Senior Marketing Coordinator', 'Senior Human Resources Manager',\n",
       "       'Junior Business Development Associate', 'Senior Account Manager',\n",
       "       'Senior Researcher', 'Junior HR Coordinator',\n",
       "       'Director of Finance', 'Junior Marketing Coordinator', nan,\n",
       "       'Junior Data Scientist', 'Senior Operations Analyst',\n",
       "       'Senior Human Resources Coordinator', 'Senior UX Designer',\n",
       "       'Junior Product Manager', 'Senior Marketing Specialist',\n",
       "       'Senior IT Project Manager', 'Senior Quality Assurance Analyst',\n",
       "       'Director of Sales and Marketing', 'Senior Account Executive',\n",
       "       'Director of Business Development', 'Junior Social Media Manager',\n",
       "       'Senior Human Resources Specialist', 'Senior Data Analyst',\n",
       "       'Director of Human Capital', 'Junior Advertising Coordinator',\n",
       "       'Junior UX Designer', 'Senior Marketing Director',\n",
       "       'Senior IT Consultant', 'Senior Financial Advisor',\n",
       "       'Junior Business Operations Analyst',\n",
       "       'Junior Social Media Specialist',\n",
       "       'Senior Product Development Manager', 'Junior Operations Manager',\n",
       "       'Senior Software Architect', 'Junior Research Scientist',\n",
       "       'Senior Financial Manager', 'Senior HR Specialist',\n",
       "       'Senior Data Engineer', 'Junior Operations Coordinator',\n",
       "       'Director of HR', 'Senior Operations Coordinator',\n",
       "       'Junior Financial Advisor', 'Director of Engineering',\n",
       "       'Software Engineer Manager', 'Back end Developer',\n",
       "       'Senior Project Engineer', 'Full Stack Engineer',\n",
       "       'Front end Developer', 'Developer', 'Front End Developer',\n",
       "       'Director of Data Science', 'Human Resources Coordinator',\n",
       "       'Junior Sales Associate', 'Human Resources Manager',\n",
       "       'Juniour HR Generalist', 'Juniour HR Coordinator',\n",
       "       'Digital Marketing Specialist', 'Receptionist',\n",
       "       'Marketing Director', 'Social M', 'Social Media Man',\n",
       "       'Delivery Driver'], dtype=object)"
      ]
     },
     "execution_count": 22,
     "metadata": {},
     "output_type": "execute_result"
    }
   ],
   "source": [
    "# List of 193 unique values in the 'Job Title' column\n",
    "# I am considering consolidating and grouping job titles into departments such as Finance, Marketing, Technology, Sales, etc.\n",
    "\n",
    "salary_df['Job Title'].unique()"
   ]
  },
  {
   "cell_type": "code",
   "execution_count": 23,
   "metadata": {},
   "outputs": [
    {
     "data": {
      "text/plain": [
       "Years of Experience\n",
       "2.0     610\n",
       "3.0     602\n",
       "1.0     540\n",
       "4.0     522\n",
       "6.0     439\n",
       "8.0     426\n",
       "5.0     399\n",
       "9.0     380\n",
       "7.0     353\n",
       "11.0    320\n",
       "12.0    294\n",
       "14.0    253\n",
       "16.0    242\n",
       "13.0    209\n",
       "10.0    192\n",
       "15.0    129\n",
       "18.0    126\n",
       "19.0    121\n",
       "0.0     120\n",
       "17.0    106\n",
       "20.0     61\n",
       "22.0     47\n",
       "21.0     42\n",
       "23.0     37\n",
       "25.0     24\n",
       "24.0     19\n",
       "28.0     16\n",
       "1.5      12\n",
       "29.0     12\n",
       "27.0     11\n",
       "32.0     10\n",
       "26.0      7\n",
       "30.0      6\n",
       "33.0      6\n",
       "31.0      5\n",
       "34.0      2\n",
       "0.5       1\n",
       "Name: count, dtype: int64"
      ]
     },
     "execution_count": 23,
     "metadata": {},
     "output_type": "execute_result"
    }
   ],
   "source": [
    "# Distribution and Count of 37 unique values in the 'Years of Experience' column\n",
    "# 2.0 years of experience has the most values ie. 610\n",
    "# I notice that most unique values in Years of experience are whole numbers except 1.5 years with 12 values and 0.5 years with 1 value.\n",
    "# I will round them to the nearest whole number while cleaning the dataset wit the assumption that in reality, years of experience is \n",
    "# stated in whole numbers and the number of records with those values are insignificant.\n",
    "\n",
    "salary_df['Years of Experience'].value_counts()"
   ]
  },
  {
   "cell_type": "code",
   "execution_count": 24,
   "metadata": {},
   "outputs": [
    {
     "data": {
      "text/plain": [
       "Country\n",
       "USA          1360\n",
       "China        1343\n",
       "UK           1337\n",
       "Australia    1336\n",
       "Canada       1328\n",
       "Name: count, dtype: int64"
      ]
     },
     "execution_count": 24,
     "metadata": {},
     "output_type": "execute_result"
    }
   ],
   "source": [
    "# Distribution and Count of Unique values in the 'Country' column. \n",
    "# Country USA has the most values ie. 1360\n",
    "\n",
    "salary_df['Country'].value_counts()"
   ]
  },
  {
   "cell_type": "code",
   "execution_count": 25,
   "metadata": {},
   "outputs": [
    {
     "data": {
      "text/plain": [
       "Race\n",
       "White               1968\n",
       "Asian               1603\n",
       "Korean               457\n",
       "Australian           452\n",
       "Chinese              444\n",
       "Black                437\n",
       "African American     354\n",
       "Mixed                334\n",
       "Welsh                333\n",
       "Hispanic             322\n",
       "Name: count, dtype: int64"
      ]
     },
     "execution_count": 25,
     "metadata": {},
     "output_type": "execute_result"
    }
   ],
   "source": [
    "# Distribution and count of Unique values in the 'Race' column. I am considering to group Asian, Chinese and Korean races as 'Asian', Black\n",
    "# and African American races as 'Black', White and Welsh races as 'White'.\n",
    "# The Welsh are an ethnic group and nation native to Wales. It is one of the four countries of the United Kingdom. The majority of people \n",
    "# living in Wales are British citizens. \n",
    "# Race - White has the most values i.e. 1968\n",
    "\n",
    "salary_df['Race'].value_counts()"
   ]
  },
  {
   "cell_type": "code",
   "execution_count": 26,
   "metadata": {},
   "outputs": [
    {
     "data": {
      "text/plain": [
       "Salary\n",
       "140000.0    287\n",
       "120000.0    282\n",
       "160000.0    276\n",
       "55000.0     251\n",
       "60000.0     231\n",
       "           ... \n",
       "150534.0      1\n",
       "68732.0       1\n",
       "187951.0      1\n",
       "137336.0      1\n",
       "178284.0      1\n",
       "Name: count, Length: 444, dtype: int64"
      ]
     },
     "execution_count": 26,
     "metadata": {},
     "output_type": "execute_result"
    }
   ],
   "source": [
    "# Distribution and count of Unique values in the 'Salary' column.\n",
    "# Salary 140000 has the most values ie. 287. Salary ranging between USD 120000 and 160000 has the most values\n",
    "salary_df['Salary'].value_counts()"
   ]
  },
  {
   "attachments": {},
   "cell_type": "markdown",
   "metadata": {
    "azdata_cell_guid": "d45060f3-97bc-484a-9ef4-66145bbe9427"
   },
   "source": [
    "## Visualize\n",
    "\n",
    "Create any visualizations for your EDA here. Make note in the form of code comments of what your thought process is for your visualizations."
   ]
  },
  {
   "cell_type": "code",
   "execution_count": 27,
   "metadata": {
    "azdata_cell_guid": "cd64bab1-db4c-4295-820d-c6464b653a3e"
   },
   "outputs": [
    {
     "data": {
      "image/png": "[encoded data removed]",
      "text/plain": [
       "<Figure size 640x480 with 1 Axes>"
      ]
     },
     "metadata": {},
     "output_type": "display_data"
    }
   ],
   "source": [
    "# Shows the distribution of 'Years of Experience' values. Most have 2 years of experience.\n",
    "# The dataset is right skewed (longer tail on the right side)\n",
    "sns.histplot(salary_df['Years of Experience'], color='red')\n",
    "plt.show()"
   ]
  },
  {
   "cell_type": "code",
   "execution_count": 28,
   "metadata": {},
   "outputs": [
    {
     "data": {
      "image/png": "[encoded data removed]",
      "text/plain": [
       "<Figure size 640x480 with 1 Axes>"
      ]
     },
     "metadata": {},
     "output_type": "display_data"
    }
   ],
   "source": [
    "# Shows the distribution of 'Salary' values\n",
    "\n",
    "sns.histplot(salary_df['Salary'], color='orange')\n",
    "plt.show()"
   ]
  },
  {
   "cell_type": "code",
   "execution_count": 29,
   "metadata": {},
   "outputs": [
    {
     "data": {
      "image/png": "[encoded data removed]",
      "text/plain": [
       "<Figure size 640x480 with 1 Axes>"
      ]
     },
     "metadata": {},
     "output_type": "display_data"
    }
   ],
   "source": [
    "# Shows the distribution of 'Age' values. Most employees in the dataset are 27 years old.\n",
    "# The dataset is right skewed (longer tail on the right side)\n",
    "sns.histplot(salary_df['Age'], color='green')\n",
    "plt.show()"
   ]
  },
  {
   "cell_type": "code",
   "execution_count": 30,
   "metadata": {},
   "outputs": [
    {
     "data": {
      "image/png": "[encoded data removed]",
      "text/plain": [
       "<Figure size 640x480 with 1 Axes>"
      ]
     },
     "metadata": {},
     "output_type": "display_data"
    }
   ],
   "source": [
    "# Shows the distribution of 'Gender' values. \n",
    "salary_df['Gender'].value_counts().plot(kind='bar', color='brown');"
   ]
  },
  {
   "cell_type": "code",
   "execution_count": 31,
   "metadata": {},
   "outputs": [
    {
     "data": {
      "image/png": "[encoded data removed]",
      "text/plain": [
       "<Figure size 640x480 with 1 Axes>"
      ]
     },
     "metadata": {},
     "output_type": "display_data"
    }
   ],
   "source": [
    "# Shows the distribution of 'Country' values.\n",
    "salary_df['Country'].value_counts().plot(kind='bar', color='purple');"
   ]
  },
  {
   "cell_type": "code",
   "execution_count": 32,
   "metadata": {},
   "outputs": [
    {
     "data": {
      "image/png": "[encoded data removed]",
      "text/plain": [
       "<Figure size 640x480 with 1 Axes>"
      ]
     },
     "metadata": {},
     "output_type": "display_data"
    }
   ],
   "source": [
    "# Shows the distribution of 'Race' values. Race 'White' and 'Asian' have the most records in the dataset.\n",
    "salary_df['Race'].value_counts().plot(kind='bar');"
   ]
  },
  {
   "cell_type": "markdown",
   "metadata": {
    "azdata_cell_guid": "d4931c0c-2c09-4ee1-95d4-73dd08c2f0a6"
   },
   "source": [
    "## Summarize Your Results\n",
    "\n",
    "With your EDA complete, answer the following questions.\n",
    "\n",
    "1. Was there anything surprising about your dataset? \n",
    "2. Do you have any concerns about your dataset? \n",
    "3. Is there anything you want to make note of for the next phase of your analysis, which is cleaning data? "
   ]
  },
  {
   "cell_type": "markdown",
   "metadata": {},
   "source": [
    "1. Was there anything surprising about your dataset?\n",
    "   ANSWER:\n",
    "(a) Yes, I observed that the lowest-paid employees with a Bachelor's or PhD in the role of Software Engineer Manager are earning less than   600 US Dollars per year. This does not seem realistic! \n",
    "(b) The top four highest-paid employees are males from Canada. \n",
    "(c) The top 3 employees with the most experience are females aged 60, holding a PhD and working as Software Engineer Managers. \n",
    "(e) The oldest employees are males aged 62 with PhD degrees, working as Software Engineer Managers, and earning similar salaries of $200,000.\n",
    "   "
   ]
  },
  {
   "cell_type": "markdown",
   "metadata": {},
   "source": [
    "2. Do you have any concerns about your dataset?\n",
    "   ANSWER: (a) Yes, I observed that the lowest-paid employees with a Bachelor's or PhD in the role of Software Engineer Manager are earning less than $600 per year, which seems unrealistic.\n",
    "   (b) There is a wide range in Salary values. Minimum is $350 and maximum is $250000. There are more values in the higher salary range.\n",
    "   (b)The column 'Gender' has 3 unique values - Male, Female and Other. However, there are only 14 rows or records for the 'Other' category. I am not sure yet how to handle these records and whether this has a significant impact on my analysis. "
   ]
  },
  {
   "cell_type": "markdown",
   "metadata": {},
   "source": [
    "3. Is there anything you want to make note of for the next phase of your analysis, which is cleaning data?\n",
    "   ANSWER: (a) In the 'Education level' column, I need to consolidate and replace \"Bachelor's\" with \"Bachelor's Degree\", \"Master's\" with \"Master's Degree\" and 'phD' with 'PhD'\n",
    "   (b) Handle missing values in the dataset. I need to drop Row # 172 and 260 since all the columns except 'Country' and 'Race' have null values. (c) I would like to locate and remove outliers in the salary, age and years of experience columns of the dataset. (d) Change datatype of Columns - Age, Years of Experience and Salary from Float datatype to Integer datatype since the values are represented as whole numbers.(e) Round off 13 records in the Years of Experience column to the nearest whole number.\n",
    "   "
   ]
  }
 ],
 "metadata": {
  "kernelspec": {
   "display_name": "Python 3 (ipykernel)",
   "language": "python",
   "name": "python3"
  },
  "language_info": {
   "codemirror_mode": {
    "name": "ipython",
    "version": 3
   },
   "file_extension": ".py",
   "mimetype": "text/x-python",
   "name": "python",
   "nbconvert_exporter": "python",
   "pygments_lexer": "ipython3",
   "version": "3.12.4"
  }
 },
 "nbformat": 4,
 "nbformat_minor": 4
}
